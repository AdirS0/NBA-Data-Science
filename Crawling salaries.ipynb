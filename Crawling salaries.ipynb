{
 "cells": [
  {
   "cell_type": "code",
   "execution_count": 2,
   "id": "f3087008",
   "metadata": {},
   "outputs": [],
   "source": [
    "import pandas as pd\n",
    "import requests\n",
    "import numpy as np\n",
    "from bs4 import BeautifulSoup\n",
    "from time import sleep\n",
    "from random import randint"
   ]
  },
  {
   "cell_type": "markdown",
   "id": "b076a5c0",
   "metadata": {},
   "source": [
    "### Crawling"
   ]
  },
  {
   "cell_type": "code",
   "execution_count": 3,
   "id": "b594d056",
   "metadata": {},
   "outputs": [],
   "source": [
    "# URL for all active players and their salaries.\n",
    "\n",
    "url = \"https://www.basketball-reference.com/contracts/players.html\"\n",
    "response = requests.get(url)\n",
    "soup = BeautifulSoup(response.content, 'html.parser')\n",
    "\n",
    "# Crawling the names and salary table.\n",
    "\n",
    "tbl = soup.find(\"table\", attrs={\"class\": \"sortable\"})\n",
    "headers = [\"Player\", \"2021-22\"]\n",
    "rows = soup.findAll('tr')[1:]\n",
    "player_names = [[td.getText() for td in rows[i].findAll('td',attrs={'data-stat':'player'})] for i in range(len(rows))]\n",
    "player_salary = [[td.getText() for td in rows[i].findAll('td',attrs={'data-stat':'y1'})] for i in range(len(rows))]\n",
    "\n",
    "# Extracting the names and salaries out of the inner lists.\n",
    "\n",
    "player_names2 = [j for i in player_names for j in i]\n",
    "player_salary2 = [j for i in player_salary for j in i]\n",
    "\n"
   ]
  },
  {
   "cell_type": "markdown",
   "id": "fbfdd6fe",
   "metadata": {},
   "source": [
    "### Making a DataFrame containing the players' names and their salaries."
   ]
  },
  {
   "cell_type": "code",
   "execution_count": 4,
   "id": "564f0052",
   "metadata": {},
   "outputs": [
    {
     "data": {
      "text/html": [
       "<div>\n",
       "<style scoped>\n",
       "    .dataframe tbody tr th:only-of-type {\n",
       "        vertical-align: middle;\n",
       "    }\n",
       "\n",
       "    .dataframe tbody tr th {\n",
       "        vertical-align: top;\n",
       "    }\n",
       "\n",
       "    .dataframe thead th {\n",
       "        text-align: right;\n",
       "    }\n",
       "</style>\n",
       "<table border=\"1\" class=\"dataframe\">\n",
       "  <thead>\n",
       "    <tr style=\"text-align: right;\">\n",
       "      <th></th>\n",
       "      <th>Player</th>\n",
       "      <th>Salary</th>\n",
       "    </tr>\n",
       "  </thead>\n",
       "  <tbody>\n",
       "    <tr>\n",
       "      <th>0</th>\n",
       "      <td>Stephen Curry</td>\n",
       "      <td>$45,780,966</td>\n",
       "    </tr>\n",
       "    <tr>\n",
       "      <th>1</th>\n",
       "      <td>John Wall</td>\n",
       "      <td>$44,310,840</td>\n",
       "    </tr>\n",
       "    <tr>\n",
       "      <th>2</th>\n",
       "      <td>Russell Westbrook</td>\n",
       "      <td>$44,211,146</td>\n",
       "    </tr>\n",
       "    <tr>\n",
       "      <th>3</th>\n",
       "      <td>James Harden</td>\n",
       "      <td>$43,848,000</td>\n",
       "    </tr>\n",
       "    <tr>\n",
       "      <th>4</th>\n",
       "      <td>LeBron James</td>\n",
       "      <td>$41,180,544</td>\n",
       "    </tr>\n",
       "  </tbody>\n",
       "</table>\n",
       "</div>"
      ],
      "text/plain": [
       "              Player       Salary\n",
       "0      Stephen Curry  $45,780,966\n",
       "1          John Wall  $44,310,840\n",
       "2  Russell Westbrook  $44,211,146\n",
       "3       James Harden  $43,848,000\n",
       "4       LeBron James  $41,180,544"
      ]
     },
     "execution_count": 4,
     "metadata": {},
     "output_type": "execute_result"
    }
   ],
   "source": [
    "df_salary = pd.DataFrame({\"Player\":player_names2,\"Salary\":player_salary2})\n",
    "df_salary.head()"
   ]
  },
  {
   "cell_type": "code",
   "execution_count": 5,
   "id": "5f350230",
   "metadata": {},
   "outputs": [],
   "source": [
    "# Saving the data into a csv file.\n",
    "df_salary.to_csv('Salary_data.csv', index=False)"
   ]
  }
 ],
 "metadata": {
  "kernelspec": {
   "display_name": "Python 3",
   "language": "python",
   "name": "python3"
  },
  "language_info": {
   "codemirror_mode": {
    "name": "ipython",
    "version": 3
   },
   "file_extension": ".py",
   "mimetype": "text/x-python",
   "name": "python",
   "nbconvert_exporter": "python",
   "pygments_lexer": "ipython3",
   "version": "3.8.8"
  }
 },
 "nbformat": 4,
 "nbformat_minor": 5
}
